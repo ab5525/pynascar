{
 "cells": [
  {
   "cell_type": "code",
   "execution_count": 18,
   "id": "30e62464",
   "metadata": {},
   "outputs": [],
   "source": [
    "\n",
    "\n",
    "# {year} {series ID} {Race ID}\n",
    "year = 2025\n",
    "series_id = 1\n",
    "race_id = \"ABC456\""
   ]
  },
  {
   "cell_type": "code",
   "execution_count": 21,
   "id": "d6f821cb",
   "metadata": {},
   "outputs": [],
   "source": [
    "import warnings\n",
    "import requests\n",
    "import pandas as pd\n",
    "\n",
    "# endpoint for race list\n",
    "#https://cf.nascar.com/cacher/2023/race_list_basic.json\n",
    "\n",
    "class Races:\n",
    "    \n",
    "    def __init__(self, year, series_id):\n",
    "        self.year = year\n",
    "        self.series_id = series_id\n",
    "        self.races = []\n",
    "        self.data = pd.DataFrame()\n",
    "        self.fetch_races()\n",
    "\n",
    "    def fetch_races(self):\n",
    "        \"\"\"Fetch the race list for the specified year and series ID.\"\"\"\n",
    "        url = f\"https://cf.nascar.com/cacher/{self.year}/race_list_basic.json\"\n",
    "        response = requests.get(url)\n",
    "        if response.status_code == 200:\n",
    "            data = response.json()\n",
    "            # Filter the races by series ID\n",
    "            race_list = data[f'series_{self.series_id}']\n",
    "            self.races = [race for race in race_list if race['series_id'] == self.series_id]\n",
    "            self.data = pd.DataFrame(self.races)\n",
    "            \n",
    "        else:\n",
    "            warnings.warn(f\"Failed to fetch race list: {response.status_code}\")\n",
    "    def get_completed_races(self):\n",
    "        \"\"\"Return a list of completed races.\"\"\"\n",
    "        return self.data[self.data['winner_driver_id'].notna()]['race_name'].tolist()\n",
    "\n",
    "    \n",
    "def get_race_list(year, series_id) -> Races:\n",
    "    \"\"\"Fetch the race list for a specific year and series ID.\"\"\"\n",
    "    return Races(year, series_id)\n",
    "    if response.status_code == 200:\n",
    "        data = response.json()\n",
    "        print(data)\n",
    "        # Filter the races by series ID\n",
    "        race_list = data[f'series_{series_id}']\n",
    "        races = [race for race in race_list if race['series_id'] == series_id]\n",
    "        return races\n",
    "    else:\n",
    "        warnings.warn(f\"Failed to fetch race list: {response.status_code}\")\n",
    "        return []\n",
    "\n",
    "races = Races(year, series_id)"
   ]
  },
  {
   "cell_type": "code",
   "execution_count": 22,
   "id": "534a22bb",
   "metadata": {},
   "outputs": [
    {
     "data": {
      "text/plain": [
       "['Cook Out Clash at Bowman Gray',\n",
       " 'Duel 1 at DAYTONA',\n",
       " 'Duel 2 at DAYTONA',\n",
       " 'DAYTONA 500',\n",
       " 'Ambetter Health 400',\n",
       " 'EchoPark Automotive Grand Prix',\n",
       " \"Shriners Children's 500\",\n",
       " 'Pennzoil 400 presented by Jiffy Lube',\n",
       " 'Straight Talk Wireless 400',\n",
       " 'Cook Out 400',\n",
       " 'Goodyear 400',\n",
       " 'Food City 500',\n",
       " \"Jack Link's 500\",\n",
       " 'Würth 400 presented by LIQUI MOLY',\n",
       " 'AdventHealth 400',\n",
       " 'NASCAR All-Star Open',\n",
       " 'NASCAR All-Star Race',\n",
       " 'Coca-Cola 600',\n",
       " 'Cracker Barrel 400',\n",
       " 'FireKeepers Casino 400',\n",
       " 'Viva Mexico 250',\n",
       " 'The Great American Getaway 400 Presented by VISITPA.COM',\n",
       " 'Quaker State 400 Available at Walmart',\n",
       " 'Grant Park 165',\n",
       " 'Toyota / Save Mart 350']"
      ]
     },
     "execution_count": 22,
     "metadata": {},
     "output_type": "execute_result"
    }
   ],
   "source": [
    "races.get_completed_races()"
   ]
  }
 ],
 "metadata": {
  "kernelspec": {
   "display_name": "pynascar",
   "language": "python",
   "name": "python3"
  },
  "language_info": {
   "codemirror_mode": {
    "name": "ipython",
    "version": 3
   },
   "file_extension": ".py",
   "mimetype": "text/x-python",
   "name": "python",
   "nbconvert_exporter": "python",
   "pygments_lexer": "ipython3",
   "version": "3.12.9"
  }
 },
 "nbformat": 4,
 "nbformat_minor": 5
}
